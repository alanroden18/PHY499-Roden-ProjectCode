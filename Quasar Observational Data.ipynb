{
 "cells": [
  {
   "cell_type": "code",
   "execution_count": 2,
   "metadata": {
    "ExecuteTime": {
     "end_time": "2022-02-16T18:30:23.177931Z",
     "start_time": "2022-02-16T18:30:21.677166Z"
    }
   },
   "outputs": [],
   "source": [
    "import os\n",
    "import glob\n",
    "import pandas as pd\n",
    "import numpy as np\n",
    "import math"
   ]
  },
  {
   "cell_type": "code",
   "execution_count": 3,
   "metadata": {
    "ExecuteTime": {
     "end_time": "2022-02-16T18:30:32.938003Z",
     "start_time": "2022-02-16T18:30:26.594929Z"
    }
   },
   "outputs": [],
   "source": [
    "folder_path1 = '/Users/alanroden/Library/Mobile Documents/com~apple~CloudDocs/QSO_S82.Edit_Full3'\n",
    "df = pd.DataFrame()\n",
    "dicts = {}\n",
    "textfiles = []\n",
    "keys = range(9258)\n",
    "kee = ''\n",
    "kee1 = ''\n",
    "stri = ' '\n",
    "values = [filename for filename in glob.glob(os.path.join(folder_path1, '*.txt'))]\n",
    "for i in keys:\n",
    "    dicts[i] = values[i]\n",
    "dicts_vals = list(dicts.values())\n",
    "dicts_keys = list(dicts.keys())\n",
    "\n",
    "for i, j in dicts.items():\n",
    "    key = str(i)\n",
    "    kee = list(key)\n",
    "    kee1 = [''.join(kee)]\n",
    "    with open(j, 'r') as f:\n",
    "        text = f.readlines()\n",
    "    for line in text:\n",
    "        textfiles.append(kee1 + [float(i) for i in line.split()])"
   ]
  },
  {
   "cell_type": "code",
   "execution_count": null,
   "metadata": {
    "ExecuteTime": {
     "end_time": "2022-02-16T18:30:37.914466Z",
     "start_time": "2022-02-16T18:30:36.890278Z"
    }
   },
   "outputs": [],
   "source": [
    "df = pd.DataFrame(textfiles)\n",
    "print(df)"
   ]
  },
  {
   "cell_type": "code",
   "execution_count": 10,
   "metadata": {},
   "outputs": [],
   "source": [
    "#df1 = pd.DataFrame(df.values.reshape(573218,17), columns=list('abcdefghijklmnopq'))\n",
    "df.to_excel(\"output1.xlsx\",sheet_name='Sheet_name_1') "
   ]
  }
 ],
 "metadata": {
  "kernelspec": {
   "display_name": "Python 3",
   "language": "python",
   "name": "python3"
  },
  "language_info": {
   "codemirror_mode": {
    "name": "ipython",
    "version": 3
   },
   "file_extension": ".py",
   "mimetype": "text/x-python",
   "name": "python",
   "nbconvert_exporter": "python",
   "pygments_lexer": "ipython3",
   "version": "3.8.8"
  }
 },
 "nbformat": 4,
 "nbformat_minor": 4
}
